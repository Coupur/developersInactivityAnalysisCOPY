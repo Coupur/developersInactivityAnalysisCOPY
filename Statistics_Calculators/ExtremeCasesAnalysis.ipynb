{
    "cells": [
        {
            "cell_type": "markdown",
            "metadata": {
                "collapsed": true,
                "pycharm": {
                    "name": "#%% md\n"
                }
            },
            "source": [
                "Import stuff"
            ]
        },
        {
            "cell_type": "code",
            "execution_count": 1,
            "outputs": [],
            "source": [
                "import os\n",
                "import pandas\n",
                "import Utilities as util\n",
                "import Settings as cfg\n",
                "import BreaksManager.BreaksLabeling as BL\n",
                "from datetime import datetime\n",
                "import datetime as dt"
            ],
            "metadata": {
                "collapsed": false,
                "pycharm": {
                    "name": "#%%\n"
                }
            }
        },
        {
            "cell_type": "markdown",
            "source": [
                "Gets the list of breaks from the chosen repo"
            ],
            "metadata": {
                "collapsed": false
            }
        },
        {
            "cell_type": "code",
            "execution_count": 2,
            "outputs": [],
            "source": [
                "def listBreaks(workingFolder, repo, mode):\n",
                "    organization, project = repo.split('/')\n",
                "    breaksFolder = os.path.join(workingFolder, organization, cfg.breaks_folder_name, mode.upper())\n",
                "\n",
                "    repo_Blist = pandas.DataFrame(columns=['dev', 'repo', 'dates', 'len', 'Tfov'])\n",
                "    for fileName in os.listdir(breaksFolder):\n",
                "        filePath = os.path.join(breaksFolder, fileName)\n",
                "        if os.path.isfile(filePath):\n",
                "            dev = fileName.split('_')[0]\n",
                "            dev_breaks = pandas.read_csv(filePath, sep=cfg.CSV_separator)\n",
                "            for i, b in dev_breaks.iterrows():\n",
                "                util.add(repo_Blist, [dev, repo, b.dates, b.len, b.th])\n",
                "\n",
                "    return repo_Blist"
            ],
            "metadata": {
                "collapsed": false,
                "pycharm": {
                    "name": "#%%\n"
                }
            }
        },
        {
            "cell_type": "markdown",
            "source": [
                "Gets the list of NON_CODING breaks from the chosen repo"
            ],
            "metadata": {
                "collapsed": false
            }
        },
        {
            "cell_type": "code",
            "execution_count": 3,
            "outputs": [],
            "source": [
                "def listNonCoding(workingFolder, repo, mode):\n",
                "    organization, project = repo.split('/')\n",
                "    breaksFolder = os.path.join(workingFolder, organization, cfg.labeled_breaks_folder_name, mode.upper())\n",
                "\n",
                "    repo_NClist = pandas.DataFrame(columns=['dev', 'repo', 'dates', 'len', 'Tfov', 'before', 'label', 'after'])\n",
                "    for fileName in os.listdir(breaksFolder):\n",
                "        filePath = os.path.join(breaksFolder, fileName)\n",
                "        if os.path.isfile(filePath):\n",
                "            dev = fileName.split('_')[0]\n",
                "            dev_breaks = pandas.read_csv(filePath, sep=cfg.CSV_separator)\n",
                "            for i, b in dev_breaks[dev_breaks.label == cfg.NC].iterrows():\n",
                "                end_date = b.dates.split('/')[1]\n",
                "                for i, ab in dev_breaks[dev_breaks.previously == cfg.NC].iterrows():\n",
                "                    begin_date = ab.dates.split('/')[0]\n",
                "                    if begin_date == end_date:\n",
                "                        after = ab.label\n",
                "                        util.add(repo_NClist, [dev, repo, b.dates, b.len, b.th, b.previously, b.label, after])\n",
                "                        break\n",
                "    return repo_NClist"
            ],
            "metadata": {
                "collapsed": false,
                "pycharm": {
                    "name": "#%%\n"
                }
            }
        },
        {
            "cell_type": "markdown",
            "source": [
                "Gets the list of INACTIVE breaks from the chosen repo"
            ],
            "metadata": {
                "collapsed": false
            }
        },
        {
            "cell_type": "code",
            "execution_count": 4,
            "outputs": [],
            "source": [
                "def listInactive(workingFolder, repo, mode):\n",
                "    organization, project = repo.split('/')\n",
                "    breaksFolder = os.path.join(workingFolder, organization, cfg.labeled_breaks_folder_name, mode.upper())\n",
                "\n",
                "    repo_Ilist = pandas.DataFrame(columns=['dev', 'repo', 'dates', 'len', 'Tfov', 'previously', 'label', 'after'])\n",
                "    for fileName in os.listdir(breaksFolder):\n",
                "        filePath = os.path.join(breaksFolder, fileName)\n",
                "        if os.path.isfile(filePath):\n",
                "            dev = fileName.split('_')[0]\n",
                "            dev_breaks = pandas.read_csv(filePath, sep=cfg.CSV_separator)\n",
                "            for i, b in dev_breaks[dev_breaks.label == cfg.I].iterrows():\n",
                "                end_date = b.dates.split('/')[1]\n",
                "                for i, ab in dev_breaks[dev_breaks.previously == cfg.I].iterrows():\n",
                "                    begin_date = ab.dates.split('/')[0]\n",
                "                    if begin_date == end_date:\n",
                "                        after = ab.label\n",
                "                        util.add(repo_Ilist, [dev, repo, b.dates, b.len, b.th, b.previously, b.label, after])\n",
                "                        break\n",
                "    return repo_Ilist"
            ],
            "metadata": {
                "collapsed": false,
                "pycharm": {
                    "name": "#%%\n"
                }
            }
        },
        {
            "cell_type": "markdown",
            "source": [
                "Gets the list of GONE from the chosen repo"
            ],
            "metadata": {
                "collapsed": false
            }
        },
        {
            "cell_type": "code",
            "execution_count": 5,
            "outputs": [],
            "source": [
                "def listGone(workingFolder, repo, mode):\n",
                "    organization, project = repo.split('/')\n",
                "    breaksFolder = os.path.join(workingFolder, organization, cfg.labeled_breaks_folder_name, mode.upper())\n",
                "\n",
                "    repo_Glist = pandas.DataFrame(columns=['dev', 'repo', 'dates', 'len', 'Tfov', 'previously', 'label', 'after'])\n",
                "    for fileName in os.listdir(breaksFolder):\n",
                "        filePath = os.path.join(breaksFolder, fileName)\n",
                "        if os.path.isfile(filePath):\n",
                "            dev = fileName.split('_')[0]\n",
                "            dev_breaks = pandas.read_csv(filePath, sep=cfg.CSV_separator)\n",
                "            for i, b in dev_breaks[dev_breaks.label == cfg.G].iterrows():\n",
                "                end_date = b.dates.split('/')[1]\n",
                "                for i, ab in dev_breaks[dev_breaks.previously == cfg.G].iterrows():\n",
                "                    begin_date = ab.dates.split('/')[0]\n",
                "                    if begin_date == end_date:\n",
                "                        after = ab.label\n",
                "                        util.add(repo_Glist, [dev, repo, b.dates, b.len, b.th, b.previously, b.label, after])\n",
                "                        break\n",
                "    return repo_Glist"
            ],
            "metadata": {
                "collapsed": false,
                "pycharm": {
                    "name": "#%%\n"
                }
            }
        },
        {
            "cell_type": "markdown",
            "source": [
                "Prints the list of Sub-breaks from the given Break"
            ],
            "metadata": {
                "collapsed": false
            }
        },
        {
            "cell_type": "code",
            "execution_count": 6,
            "outputs": [],
            "source": [
                "def analyzeLongBreak(repo, dev, targetBreakDates, targetBreakTfov):\n",
                "    organization, project = repo.split('/')\n",
                "    workingFolder = os.path.join(cfg.main_folder, organization)\n",
                "    actionsFolder = os.path.join(workingFolder, cfg.actions_folder_name)\n",
                "\n",
                "    devActionsFile = '{}_actions_table.csv'.format(dev)\n",
                "    if devActionsFile in actionsFolder:\n",
                "        user_actions = pandas.read_csv(actionsFolder + '/' + devActionsFile, sep=cfg.CSV_separator)\n",
                "    else:\n",
                "        user_actions = BL.get_activities(workingFolder, dev)\n",
                "\n",
                "    # CHECK ACTIVITIES\n",
                "    threshold = targetBreakTfov\n",
                "    break_range = targetBreakDates.split('/')\n",
                "    inner_start = (datetime.strptime(break_range[0], \"%Y-%m-%d\") + dt.timedelta(days=1)).strftime(\"%Y-%m-%d\")\n",
                "    inner_end = (datetime.strptime(break_range[1], \"%Y-%m-%d\") - dt.timedelta(days=1)).strftime(\"%Y-%m-%d\")\n",
                "\n",
                "    break_actions = user_actions.loc[:, inner_start:inner_end]  # Gets only the chosen period\n",
                "\n",
                "    break_actions = break_actions.loc[~(break_actions == 0).all(axis=1)]  # Removes the actions not performed\n",
                "\n",
                "    is_activity_day = (break_actions != 0).any()  # List Of Columns With at least a Non-Zero Value\n",
                "    action_days = is_activity_day.index[is_activity_day].tolist()  # List Of Columns NAMES Having Column Names at least a Non-Zero Value\n",
                "\n",
                "    if len(break_actions) > 0:  # There are other activities: the Break is Non-coding\n",
                "        break_detail = BL.splitBreak(targetBreakDates, action_days, threshold)\n",
                "        print('Break Detail: \\n', break_detail)\n",
                "        #actions_detail = break_actions[action_days[1:-1]]  # splitBreak() has added the commit days, thus I exclude them here\n",
                "        #print('Break Actions: \\n', actions_detail)\n",
                "    else:\n",
                "        print('NONE')"
            ],
            "metadata": {
                "collapsed": false,
                "pycharm": {
                    "name": "#%%\n"
                }
            }
        },
        {
            "cell_type": "markdown",
            "source": [
                "MAIN FUNCTION"
            ],
            "metadata": {
                "collapsed": false
            }
        },
        {
            "cell_type": "code",
            "execution_count": 7,
            "outputs": [
                {
                    "name": "stdout",
                    "output_type": "stream",
                    "text": [
                        "nodejs/node DONE!\n",
                        "rails/rails DONE!\n",
                        "aseprite/aseprite DONE!\n",
                        "jekyll/jekyll DONE!\n",
                        "laravel/framework DONE!\n",
                        "MinecraftForge/MinecraftForge DONE!\n",
                        "JabRef/jabref DONE!\n",
                        "SpaceVim/SpaceVim DONE!\n",
                        "fastlane/fastlane DONE!\n",
                        "crystal-lang/crystal DONE!\n",
                        "BabylonJS/Babylon.js DONE!\n",
                        "elixir-lang/elixir DONE!\n",
                        "github/linguist DONE!\n",
                        "atom/atom DONE!\n",
                        "ionic-team/ionic DONE!\n",
                        "facebook/react DONE!\n",
                        "jquery/jquery DONE!\n",
                        "flutter/flutter DONE!\n"
                    ]
                }
            ],
            "source": [
                "### ARGUMENTS MANAGEMENT\n",
                "mode = 'A80API'\n",
                "repos_list = util.getReposList()\n",
                "\n",
                "workingDir = os.path.join(cfg.main_folder)\n",
                "BreaksList = pandas.DataFrame(columns=['dev', 'repo', 'dates', 'len', 'Tfov'])\n",
                "NClist = pandas.DataFrame(columns=['dev', 'repo', 'dates', 'len', 'Tfov', 'previously', 'label', 'after'])\n",
                "Ilist = pandas.DataFrame(columns=['dev', 'repo', 'dates', 'len', 'Tfov', 'previously', 'label', 'after'])\n",
                "Glist = pandas.DataFrame(columns=['dev', 'repo', 'dates', 'len', 'Tfov', 'previously', 'label', 'after'])\n",
                "\n",
                "for repo in repos_list:\n",
                "    repo_Blist = listBreaks(workingDir, repo, mode)\n",
                "    BreaksList = pandas.concat([BreaksList, repo_Blist], ignore_index=True)\n",
                "\n",
                "    repo_NClist = listNonCoding(workingDir, repo, mode)\n",
                "    NClist = pandas.concat([NClist, repo_NClist], ignore_index=True)\n",
                "\n",
                "    repo_Ilist = listInactive(workingDir, repo, mode)\n",
                "    Ilist = pandas.concat([Ilist, repo_Ilist], ignore_index=True)\n",
                "\n",
                "    repo_Glist = listGone(workingDir, repo, mode)\n",
                "    Glist = pandas.concat([Glist, repo_Glist], ignore_index=True)\n",
                "\n",
                "    print(repo, 'DONE!')\n",
                "\n",
                "outputFileName = os.path.join(workingDir, mode.upper(), 'Breaks_full_list.csv')\n",
                "BreaksList.to_csv(outputFileName,\n",
                "              sep=cfg.CSV_separator, na_rep=cfg.CSV_missing, index=False, quoting=None, lineterminator='\\n')\n",
                "outputFileName = os.path.join(workingDir, mode.upper(), 'NC_full_list.csv')\n",
                "NClist.to_csv(outputFileName,\n",
                "                  sep=cfg.CSV_separator, na_rep=cfg.CSV_missing, index=False, quoting=None, lineterminator='\\n')\n",
                "outputFileName = os.path.join(workingDir, mode.upper(), 'I_full_list.csv')\n",
                "Ilist.to_csv(outputFileName,\n",
                "                  sep=cfg.CSV_separator, na_rep=cfg.CSV_missing, index=False, quoting=None, lineterminator='\\n')\n",
                "outputFileName = os.path.join(workingDir, mode.upper(), 'G_full_list.csv')\n",
                "Glist.to_csv(outputFileName,\n",
                "                  sep=cfg.CSV_separator, na_rep=cfg.CSV_missing, index=False, quoting=None, lineterminator='\\n')"
            ],
            "metadata": {
                "collapsed": false,
                "pycharm": {
                    "name": "#%%\n"
                }
            }
        },
        {
            "cell_type": "code",
            "execution_count": 26,
            "outputs": [
                {
                    "name": "stdout",
                    "text": [
                        "Break Detail: \n",
                        "    len                  dates  th       label  previously\n",
                        "0    0             2017-04-04   0      ACTIVE  NON_CODING\n",
                        "1   83  2017-01-11/2017-04-04  46  NON_CODING    INACTIVE\n",
                        "2  333  2016-03-30/2017-01-11  46    INACTIVE  NON_CODING\n",
                        "3  106  2015-10-30/2016-02-13  46  NON_CODING    INACTIVE\n",
                        "4  125  2015-08-12/2015-10-30  46    INACTIVE  NON_CODING\n",
                        "5  127  2015-02-20/2015-06-27  46  NON_CODING      ACTIVE\n"
                    ],
                    "output_type": "stream"
                }
            ],
            "source": [
                "analyzeLongBreak('atom/atom', 'jasonrudolph', '2015-02-20/2017-04-04', 46)\n"
            ],
            "metadata": {
                "collapsed": false,
                "pycharm": {
                    "name": "#%%\n",
                    "is_executing": false
                }
            }
        }
    ],
    "metadata": {
        "kernelspec": {
            "name": "python3",
            "language": "python",
            "display_name": "Python 3"
        },
        "language_info": {
            "codemirror_mode": {
                "name": "ipython",
                "version": 2
            },
            "file_extension": ".py",
            "mimetype": "text/x-python",
            "name": "python",
            "nbconvert_exporter": "python",
            "pygments_lexer": "ipython2",
            "version": "2.7.6"
        },
        "pycharm": {
            "stem_cell": {
                "cell_type": "raw",
                "source": [],
                "metadata": {
                    "collapsed": false
                }
            }
        }
    },
    "nbformat": 4,
    "nbformat_minor": 0
}